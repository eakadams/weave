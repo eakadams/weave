{
 "cells": [
  {
   "cell_type": "markdown",
   "metadata": {},
   "source": [
    "A notebook to explore catalogs based on SDSS/PanSTARRS data, given on WEAVE-Apertif internal page: https://ingconfluence.ing.iac.es:8444/confluence/pages/viewpage.action?spaceKey=WEAVEDEV&title=WEAVE-Apertif%3A+internal+team+page"
   ]
  },
  {
   "cell_type": "code",
   "execution_count": 1,
   "metadata": {
    "collapsed": true
   },
   "outputs": [],
   "source": [
    "%matplotlib inline"
   ]
  },
  {
   "cell_type": "code",
   "execution_count": 22,
   "metadata": {},
   "outputs": [],
   "source": [
    "from astropy.io import fits\n",
    "import numpy as np\n",
    "from astropy.coordinates import SkyCoord\n",
    "import astropy.units as u\n",
    "import matplotlib.pyplot as plt"
   ]
  },
  {
   "cell_type": "code",
   "execution_count": 3,
   "metadata": {},
   "outputs": [
    {
     "name": "stderr",
     "output_type": "stream",
     "text": [
      "WARNING: AstropyDeprecationWarning: Config parameter 'enabled_record_valued_keyword_cards' in section [io.fits] of the file '/Users/adams/.astropy/config/astropy.cfg' is deprecated. Use 'enable_record_valued_keyword_cards' in section [io.fits] instead. [astropy.config.configuration]\n"
     ]
    }
   ],
   "source": [
    "hdul = fits.open('/Users/adams/data/weave/LRA_Confluence_COMPLETE_List.fits')\n",
    "data = hdul[1].data"
   ]
  },
  {
   "cell_type": "code",
   "execution_count": 4,
   "metadata": {},
   "outputs": [
    {
     "name": "stdout",
     "output_type": "stream",
     "text": [
      "name:\n",
      "    ['OBJECT', 'RA', 'DEC', 'MAG_G', 'MAG_R', 'Z', 'HI_MASS', 'STELLAR_MASS', 'RMAX', 'MAXMAG', 'FIT_FLAG', 'STAR_FLAG', 'HRV_RBIN', 'HRV_MAX_MAG', 'LRV_RBIN', 'LRV_MAX_MAG', 'HRA_RBIN', 'HRA_MAX_MAG', 'LRA_RBIN', 'LRA_MAX_MAG', 'EPS', 'INCLIN', 'SMA', 'SMB', 'CEN_SB', 'HRV_EXPTIME', 'HRV_LIM_SNR', 'HRV_NBINS', 'LRV_EXPTIME', 'LRV_LIM_SNR', 'LRV_NBINS', 'HRA_EXPTIME', 'HRA_LIM_SNR', 'HRA_NBINS', 'LRA_EXPTIME', 'LRA_LIM_SNR', 'LRA_NBINS', 'CATALOG']\n",
      "format:\n",
      "    ['19A', 'D', 'D', 'D', 'D', 'D', 'D', 'D', 'D', 'D', 'D', 'D', 'D', 'D', 'D', 'D', 'D', 'D', 'D', 'D', 'D', 'D', 'D', 'D', 'D', 'D', 'D', 'I', 'D', 'D', 'I', 'D', 'D', 'I', 'D', 'D', 'I', 'D']\n",
      "unit:\n",
      "    ['', '', '', '', '', '', '', '', '', '', '', '', '', '', '', '', '', '', '', '', '', '', '', '', '', '', '', '', '', '', '', '', '', '', '', '', '', '']\n",
      "null:\n",
      "    ['', '', '', '', '', '', '', '', '', '', '', '', '', '', '', '', '', '', '', '', '', '', '', '', '', '', '', '', '', '', '', '', '', '', '', '', '', '']\n",
      "bscale:\n",
      "    ['', '', '', '', '', '', '', '', '', '', '', '', '', '', '', '', '', '', '', '', '', '', '', '', '', '', '', '', '', '', '', '', '', '', '', '', '', '']\n",
      "bzero:\n",
      "    ['', '', '', '', '', '', '', '', '', '', '', '', '', '', '', '', '', '', '', '', '', '', '', '', '', '', '', '', '', '', '', '', '', '', '', '', '', '']\n",
      "disp:\n",
      "    ['', '', '', '', '', '', '', '', '', '', '', '', '', '', '', '', '', '', '', '', '', '', '', '', '', '', '', '', '', '', '', '', '', '', '', '', '', '']\n",
      "start:\n",
      "    ['', '', '', '', '', '', '', '', '', '', '', '', '', '', '', '', '', '', '', '', '', '', '', '', '', '', '', '', '', '', '', '', '', '', '', '', '', '']\n",
      "dim:\n",
      "    ['', '', '', '', '', '', '', '', '', '', '', '', '', '', '', '', '', '', '', '', '', '', '', '', '', '', '', '', '', '', '', '', '', '', '', '', '', '']\n"
     ]
    }
   ],
   "source": [
    "cols = hdul[1].columns\n",
    "cols.info()"
   ]
  },
  {
   "cell_type": "code",
   "execution_count": 5,
   "metadata": {},
   "outputs": [
    {
     "name": "stdout",
     "output_type": "stream",
     "text": [
      "2117\n"
     ]
    }
   ],
   "source": [
    "print(len(data))"
   ]
  },
  {
   "cell_type": "markdown",
   "metadata": {
    "collapsed": true
   },
   "source": [
    "Based on looking at pdfs of the targets, I saw that many were repeated multiple times.\n",
    "\n",
    "\n",
    "I would like to quantify this. In order to do so, I will search for sources that are within 0.75' of another target (half LIFU field of view). I will iterate through the catalog, checking each source. I will record duplicates, and skip those when I continue my iterations. Then I can check length of duplicate list at the end, to find out how many sources (roughly) should be dropped)."
   ]
  },
  {
   "cell_type": "code",
   "execution_count": 30,
   "metadata": {},
   "outputs": [
    {
     "name": "stderr",
     "output_type": "stream",
     "text": [
      "/Users/adams/anaconda/envs/py3k/lib/python3.5/site-packages/ipykernel/__main__.py:20: FutureWarning: elementwise comparison failed; returning scalar instead, but in the future will perform elementwise comparison\n"
     ]
    },
    {
     "name": "stdout",
     "output_type": "stream",
     "text": [
      "517 314\n",
      "['1237658204514746368' '1237657612339249152' '1237658800968761344'\n",
      " '1237665443125067776' '1237655106766635008' '1237667324334440704'\n",
      " '155210569158776821' '155180481400373657' '155180481378823363'\n",
      " '155180481373112445' '155180481349081504' '155180481370501005'\n",
      " '155143324119121561' '155133324060979992' '155133324007249345'\n",
      " '155133439334768341' '155090555973044411' '155090556001503977'\n",
      " '155090556019892201' '155083334534695746' '155083334537034525'\n",
      " '155083334579353629' '155080330561193295' '154983382890597290'\n",
      " '154903371832526087' '154903371844825942' '154903371818023977'\n",
      " '154903371853142390' '154903371886640761' '154893371862159938'\n",
      " '154893371892299384' '154530321828680279' '154520182597753378'\n",
      " '154520182570182827' '154520182607432704' '154520182625471790'\n",
      " '154520182567731788' '154073325593550678' '154050470657483455'\n",
      " '153690345248160673' '153680345238998961' '153563356671549730'\n",
      " '153450487559709847' '153450487556828912' '153410429042353909'\n",
      " '153410429066123295' '153410429040220583' '153320453761070126'\n",
      " '153310453767889739' '153300509968025163' '153303373161084110'\n",
      " '153303373204222905' '153303373223712025' '153293373219719397'\n",
      " '153230261478455598' '153200327563561952' '153200327542251023'\n",
      " '153190327554329830' '152990328223787193' '152990328301236832'\n",
      " '152980328270697582' '152663518288529277' '152663518284666768'\n",
      " '152663518315236410' '152663518269235850' '152613433529970932'\n",
      " '152603433498176663' '152603433526555513' '152580489779343081'\n",
      " '152533356228570529' '152510345457366034' '152510345487295209'\n",
      " '152510318240746655' '152470359833255071' '152440289126907096'\n",
      " '152300294994152088' '152180449941025237' '152180449979840787'\n",
      " '152160105235378690' '152160105160667517' '152160105163525649'\n",
      " '152160105226275242' '152160105192643079' '152063374686183720'\n",
      " '151633440164996703' '151633440119294185' '151633367738333889'\n",
      " '151460283734856099' '151440536964519556' '151340281581039816'\n",
      " '151340281583429130' '151310455160158876' '151310455131906720'\n",
      " '151303360604985496' '151290399023108142' '151163351273288501'\n",
      " '151020281034528320' '150933467533431339' '150870454727496026'\n",
      " '150593395546559245' '150590381126519665' '150463359430237650'\n",
      " '150430231390641008' '150040416475747455' '149993422897910855'\n",
      " '149983459328190133' '149840386564533707' '149710406483376874'\n",
      " '149710406460155712' '149640215907464311' '149610003092521534'\n",
      " '149553535964080452' '149543535985429924' '149543535925268688'\n",
      " '149343393273402796' '149333393308138175' '149300420669944395'\n",
      " '149170220781810960' '149110263383775993' '149083396269069346'\n",
      " '148840237007363998' '148840237031122868' '148840237061262302'\n",
      " '148840237058931315' '148793412637252964' '148460347116647978'\n",
      " '148230208002027934' '148230208039796742' '148230207933956431'\n",
      " '148230207960114459' '148203343158815214' '148203343148411934'\n",
      " '148160211596018510' '148160211604267941' '147990303327136390'\n",
      " '147800207306819263' '147800207396506240' '147790099368010209'\n",
      " '147670190547598346' '147670190518057595' '147630278481477987'\n",
      " '147580412899368400' '147530385329587336' '147343568121192495'\n",
      " '147333568136069929' '147333568114968980' '147210117339452029'\n",
      " '147200117312535106' '147160172489831550' '146890096997809638'\n",
      " '146890096981458544' '146883359481144271' '146883359503033845'\n",
      " '146843423887581453' '146790583300276681' '146790583303253278'\n",
      " '146790583287252961' '146700408895583522' '146580173092444857'\n",
      " '146580173083692198' '146570173074468991' '146520172178990471'\n",
      " '146490306063560322' '146480306084817390' '146480306086705390'\n",
      " '146480306079652959' '146390322924443248' '146390322945110039'\n",
      " '146230334737554941' '145853486222209252' '145853486211635216'\n",
      " '145840137819893628' '145840137800952070' '145840137818721998'\n",
      " '145840137804930701' '145780007088961806' '145753580510387685'\n",
      " '145730003751720867' '145643427542869448' '145570370673914263'\n",
      " '145560370550559752' '145240196627205209' '145240196673423793'\n",
      " '145240196645382465' '145240196667682211' '145183572997830440'\n",
      " '145183573007140385' '145130233157205516' '145130233165714659'\n",
      " '144880323543788207' '144893451618250743' '144873292999605963'\n",
      " '144860084594788660' '144800151583410543' '144703287694531308'\n",
      " '144663485680382371' '144650279494442601' '144630232351279061'\n",
      " '144630232354237323' '144630232346176850' '144460232960704486'\n",
      " '144460232945094297' '144460232961092460' '144460232984182251'\n",
      " '144253587335474198' '144253587356813852' '144203405996326135'\n",
      " '144180398123714818' '143990316264372385' '143910284263027310'\n",
      " '143763438831626279' '143710396163770494' '143690056250364949'\n",
      " '143630201591409279' '143630201626154568' '143573477722782406'\n",
      " '143573477721470247' '143563477729329650' '143500377907987115'\n",
      " '143500377905736697' '143093346324613339' '143093346302102885'\n",
      " '143083346323279640' '143070321440249225' '143070321405387752'\n",
      " '142840349655213118' '142803484321356269' '142793576415048568'\n",
      " '142790026364946085' '142680028093748332' '142660243203959194'\n",
      " '142660243223835340' '142590303206536263' '142590303218002128'\n",
      " '142580303203858811' '142560264220027119' '142560264189266179'\n",
      " '142470256935757150' '142460355991921937' '142433490186014893'\n",
      " '142410026471267366' '142380310769044698' '142353485424101195'\n",
      " '142280407013129526' '142203558519835229' '142203558507063350'\n",
      " '141973586238280357' '141860301466569798' '141460042340988342'\n",
      " '141410397157957285' '141410397226896726' '141410397151515369'\n",
      " '141250018160800329' '141240018120349184' '141230121440901487'\n",
      " '141220121464859495' '141193464160098102' '141103421818181623'\n",
      " '141103421839620982' '141093421826768587' '141093421844837977'\n",
      " '141093421825047440' '141093421837134061' '140943490000602059'\n",
      " '140823461183099360' '140810360235321301' '140743576956157924'\n",
      " '140743576978366169' '140743577007345818' '140650052841675984'\n",
      " '140593577186029898' '140553581840539490' '140533547995619097'\n",
      " '140523591553206342' '139733500929924883' '139433525104099857'\n",
      " '139263498098557303' '139133529172212227' '139033328966258124'\n",
      " '139033328974257840' '138943534350854138' '138913391326758581'\n",
      " '138913391322477100' '138913391369966353' '138913391351281962'\n",
      " '138860065283478129' '138860065272437778' '138860065260307422'\n",
      " '138860065257147251' '138760097365946936' '138760097396486834'\n",
      " '138760097374923328' '138730140931658996' '138670361756213975'\n",
      " '138670361785311181' '138633525410398329' '138490614485800644'\n",
      " '138403394757656580' '138333487994398592' '138233509048073061'\n",
      " '138133366518130502' '138110382291391541' '138093516607386998'\n",
      " '138093516657146853' '138093516607386998' '138093516648966723'\n",
      " '138093516692486566' '138093516692486566' '138093516726125660'\n",
      " '138033386105717055' '138023548240235119' '177770310782510466'\n",
      " '177770310718450032' '177760310803129757' '177550113999963607'\n",
      " '177550113949062506' '175750146977997296' '172640008054035576'\n",
      " '171930081747255540' '169883302145475999' '169883302103822879'\n",
      " '169730371251616402' '169460115754722141' '169450115779389740'\n",
      " '169060118670071013' '169060118671790128' '169050118629699152'\n",
      " '169050118654936870' '169050428156644452' '169050428167154078'\n",
      " '168573422118039620' '168543558378669354' '168170209522939244'\n",
      " '168050366561153507' '168003429185275104' '167973558106836117'\n",
      " '167753485770106905' '167753485736516786' '167600114603454917'\n",
      " '167600114614174839' '167600114627454497' '166903399163859822'\n",
      " '166903399119067840' '166810091042616434' '166430034221995006'\n",
      " '166110372926028400' '165890035945413927' '165590151212142913'\n",
      " '165590151159420605' '165570310441391458' '165540288779076684'\n",
      " '165350530332072212' '165253350964810275' '164983585069208023'\n",
      " '164920051444644970' '164910051396759914' '164820023660888414'\n",
      " '164820023692997614' '164820023646007452' '164703315706957060'\n",
      " '164703315729664531' '164703315731361411' '164350000509046176'\n",
      " '164163581973065461' '163940467701256071' '163940467674625202'\n",
      " '163940467743370880' '163860288426988695' '163573329123492174'\n",
      " '163573329143670145' '163563329107969922' '163010403084897485'\n",
      " '162920311336247779' '162860446289195378' '162740225455540682'\n",
      " '162700325666747533' '162393331255524896' '162393331242374758'\n",
      " '162393331221194675' '162000386025546618' '162000386004004562'\n",
      " '162000385952594211' '162000385984064097' '162000385970552661'\n",
      " '162000386014911585' '162000385986331050' '161953311641633662'\n",
      " '161910234203505295' '161783529696966174' '161783529672944838'\n",
      " '161490508481081086' '161480508448299378' '161430447613885673'\n",
      " '160950483721465570' '160940483692219493' '160940483708089255'\n",
      " '160803424122252882' '160803424147291389' '160753507999241010'\n",
      " '160230362424372350' '160080459919344189' '159610357435904954'\n",
      " '159430353000546761' '159430365975463619' '159430365948322644'\n",
      " '159420202829371226' '159420202788620581' '159390429303004049'\n",
      " '159390429338652431' '159350359663481718' '159320486336114542'\n",
      " '159140361851178324' '159083475017990463' '159050147124659802'\n",
      " '159050501046627181' '159050501070895941' '158940482624298511'\n",
      " '158940482599466216' '158870405689092569' '158850494302929146'\n",
      " '158810447540515608' '158800461352176872' '158780242448199276'\n",
      " '158780242487088501' '158780242529966228' '158780242463144700'\n",
      " '158780242504204669' '158730136493962093' '158570365213937310'\n",
      " '158570365183015395' '158570365214813575' '158570365244733367'\n",
      " '158570365189931806' '158570365265760843' '158570365302870731'\n",
      " '158570365248520330' '158440487559333632' '158440487544833195'\n",
      " '158440487515882991' '158410398991139515' '158320443433595813'\n",
      " '158320570860061496' '158310503323645672' '158310503331085441'\n",
      " '158270502413073259' '158270502414011851' '158240436850982270'\n",
      " '158200525113920286' '158190525129017684' '158100495355605639'\n",
      " '158070434171301538' '158060453031631325' '158020367216016937'\n",
      " '158000396981064953' '157950500245946292' '157950491144931985'\n",
      " '157940405651330820' '157910455256630516' '157880525815973311'\n",
      " '157840498582226095' '157830396334975771' '157830396274054311'\n",
      " '157790480303220541' '157780466363753027' '157770466345278964'\n",
      " '157770496497323297' '157760472282480999' '157760496854111347'\n",
      " '157693311311084914' '157693311282714036' '157693311243960972'\n",
      " '157683311238779280' '157690495937342345' '157690495941241356'\n",
      " '157690495901651278' '157670504017261324' '157620387604589283'\n",
      " '157593355350726201' '157583385790665171' '157583385807352858'\n",
      " '157560499707233484' '157533327687449306' '157500515122392918'\n",
      " '157490500041379742' '157490237597448401' '157470402271281805'\n",
      " '157410490663936811' '157370498099190241' '157270407801777764'\n",
      " '157270407806897206' '157270407814885216' '157273307417741447'\n",
      " '157210441342834895' '157070519186786348' '157040388578741183'\n",
      " '156960503654102659' '156940514965017502' '156910475558809722'\n",
      " '156910475537129344' '156400004678314408' '156300451560322132'\n",
      " '156300451572502088' '156193366171324272' '156010559798428212'\n",
      " '155970554353892185' '155853419049379849' '155853419035576127'\n",
      " '155853419058035612' '155853419050355140' '155750523489081437'\n",
      " '155750523495271306' '155713396624848152' '155540486713851651'\n",
      " '155530486682319215' '155530550290991253' '155520550356868245'\n",
      " '155520550329347485']\n"
     ]
    }
   ],
   "source": [
    "#first, turn RA,Dec into sky coords so I can do easy calcs!\n",
    "cat_coords = SkyCoord(data['RA'],data['DEC'],frame='icrs',unit='deg')\n",
    "#print(cat_coords)\n",
    "\n",
    "#print(len(cat_coords))\n",
    "\n",
    "#create empty list to hold duplicates\n",
    "duplicate_list = np.empty(0)\n",
    "main_duplicate_list = np.empty(0) #separate array to hold first detection of duplicate\n",
    "offset = np.empty(0)\n",
    "magrdiff = np.empty(0)\n",
    "\n",
    "c= cat_coords[10]\n",
    "#print(c.separation(cat_coords))\n",
    "\n",
    "#now iterate through data\n",
    "#for i in range(len(data)):\n",
    "for i in range(len(data)): #range(len(data)):\n",
    "    #print(i)\n",
    "    if not data['OBJECT'][i].strip() in duplicate_list:\n",
    "    #    print('Already found as duplicate')\n",
    "    #else:\n",
    "        #find distance to all galaxies\n",
    "        c = cat_coords[i]\n",
    "        sep = c.separation(cat_coords).value\n",
    "        ind = np.where(sep < 0.75/60.)[0]\n",
    "        #print(ind,len(ind))\n",
    "        #check if there is more than one entry:\n",
    "        if len(ind) >1 :\n",
    "            main_duplicate_list = np.append(main_duplicate_list,data['OBJECT'][i].strip())\n",
    "            ind_dupl = ind[1:] #skip first index, which should be self (thanks to check)\n",
    "            #print(i,ind_dupl)\n",
    "            duplicate_list = np.append(duplicate_list,data['OBJECT'][ind_dupl].strip())\n",
    "            #print(duplicate_list)\n",
    "            #now fill some values to track how erroneous things are\n",
    "            offset = np.append(offset,sep[ind_dupl])\n",
    "            magrdiff = np.append(magrdiff,data['MAG_G'][ind_dupl]-data['MAG_G'][i])\n",
    "            \n",
    "print(len(duplicate_list),len(main_duplicate_list))\n",
    "#print(duplicate_list)"
   ]
  },
  {
   "cell_type": "code",
   "execution_count": 41,
   "metadata": {},
   "outputs": [
    {
     "name": "stdout",
     "output_type": "stream",
     "text": [
      "There are 517 duplicates that should be removed\n",
      "There are 314 galaxies remaining in sample that had duplicates\n"
     ]
    }
   ],
   "source": [
    "print('There are {0} duplicates that should be removed'.format(len(duplicate_list)))\n",
    "print('There are {0} galaxies remaining in sample that had duplicates'.format(len(main_duplicate_list)))\n"
   ]
  },
  {
   "cell_type": "code",
   "execution_count": 42,
   "metadata": {},
   "outputs": [
    {
     "name": "stdout",
     "output_type": "stream",
     "text": [
      "0.72\n"
     ]
    },
    {
     "data": {
      "image/png": "[encoded data removed]",
      "text/plain": [
       "<matplotlib.figure.Figure at 0x1180b4be0>"
      ]
     },
     "metadata": {},
     "output_type": "display_data"
    }
   ],
   "source": [
    "#make plots of distribution of spatial offset and mag difference\n",
    "#highlight any large cases and go investigate them\n",
    "\n",
    "plt.hist(offset)\n",
    "plt.xlabel('Offset, deg')\n",
    "plt.ylabel('Number')\n",
    "print(0.012*60)"
   ]
  },
  {
   "cell_type": "code",
   "execution_count": 44,
   "metadata": {},
   "outputs": [
    {
     "data": {
      "text/plain": [
       "<matplotlib.text.Text at 0x117e48518>"
      ]
     },
     "execution_count": 44,
     "metadata": {},
     "output_type": "execute_result"
    },
    {
     "data": {
      "image/png": "[encoded data removed]",
      "text/plain": [
       "<matplotlib.figure.Figure at 0x117d4e400>"
      ]
     },
     "metadata": {},
     "output_type": "display_data"
    }
   ],
   "source": [
    "plt.hist(magrdiff,bins=20)\n",
    "plt.xlabel('Magnitude difference, r-band')\n",
    "plt.ylabel('Number')"
   ]
  },
  {
   "cell_type": "code",
   "execution_count": 45,
   "metadata": {},
   "outputs": [
    {
     "data": {
      "text/plain": [
       "<matplotlib.text.Text at 0x1184e4048>"
      ]
     },
     "execution_count": 45,
     "metadata": {},
     "output_type": "execute_result"
    },
    {
     "data": {
      "image/png": "[encoded data removed]",
      "text/plain": [
       "<matplotlib.figure.Figure at 0x1183bd7b8>"
      ]
     },
     "metadata": {},
     "output_type": "display_data"
    }
   ],
   "source": [
    "plt.scatter(offset,abs(magrdiff))\n",
    "plt.axis([-0.001,0.015,-0.01,6])\n",
    "plt.plot([-1,1],[1,1],'r:')\n",
    "plt.plot([0.008,0.008],[0,6],'r:')\n",
    "plt.xlabel('Offset, deg')\n",
    "plt.ylabel('Absolute magnitude difference')"
   ]
  },
  {
   "cell_type": "code",
   "execution_count": 40,
   "metadata": {},
   "outputs": [
    {
     "name": "stdout",
     "output_type": "stream",
     "text": [
      "There are 503 duplicates with offsets less than 30\"\n",
      "There are 109 dupliates with magnitude differences greater than 1 mag!\n"
     ]
    }
   ],
   "source": [
    "#0.008 deg = 30\"\n",
    "ind_30arcsec = np.where(offset <= 30./3600.)[0]\n",
    "ind_1mag = np.where(abs(magrdiff) >= 1.)[0]\n",
    "\n",
    "print('There are {0} duplicates with offsets less than 30\"'.format(len(ind_30arcsec)))\n",
    "print('There are {0} dupliates with magnitude differences greater than 1 mag!'.format(len(ind_1mag)))"
   ]
  },
  {
   "cell_type": "code",
   "execution_count": null,
   "metadata": {
    "collapsed": true
   },
   "outputs": [],
   "source": []
  }
 ],
 "metadata": {
  "kernelspec": {
   "display_name": "Python 3",
   "language": "python",
   "name": "python3"
  },
  "language_info": {
   "codemirror_mode": {
    "name": "ipython",
    "version": 3
   },
   "file_extension": ".py",
   "mimetype": "text/x-python",
   "name": "python",
   "nbconvert_exporter": "python",
   "pygments_lexer": "ipython3",
   "version": "3.5.3"
  }
 },
 "nbformat": 4,
 "nbformat_minor": 1
}
